{
  "nbformat": 4,
  "nbformat_minor": 0,
  "metadata": {
    "colab": {
      "provenance": []
    },
    "kernelspec": {
      "name": "python3",
      "display_name": "Python 3"
    },
    "language_info": {
      "name": "python"
    }
  },
  "cells": [
    {
      "cell_type": "code",
      "execution_count": null,
      "metadata": {
        "id": "ey2WWb4m9UsC"
      },
      "outputs": [],
      "source": [
        "# CONV_1: add CONV layer with RELU activation and depth = 32 kernels                             # output Shape.    # 1x1\n",
        "model.add(Conv2D(32, kernel_size=(3, 3), padding='same',activation='relu',input_shape=(28,28,1)))# 28 x 28 x 32\n",
        "# POOL_1: downsample the image to choose the best features\n",
        "model.add(MaxPooling2D(pool_size=(2, 2))) # 14 x 14 x 32\n",
        "\n",
        "# CONV_2: here we increase the depth to 64\n",
        "model.add(Conv2D(64, (3, 3),padding='same', activation='relu')) # 14 x 14 x 64\n",
        "# POOL_2: more downsampling\n",
        "model.add(MaxPooling2D(pool_size=(2, 2))) # 7x7x64\n",
        "\n",
        "model.add(Conv2D(128, (3, 3),padding='valid', activation='relu')) # 5x5x 128\n",
        "\n",
        "#model.add(Conv2D(128, (3, 3),padding='valid', activation='relu')) # 3x3x128\n",
        "#model.add(Conv2D(128, (3, 3),padding='valid', activation='relu')) # 1x1x128\n",
        "\n",
        "model.add(MaxPooling2D(pool_size=(2, 2))) # 2x2x128\n",
        "\n",
        " model.add(Conv2D(128, (2, 2),padding='valid', activation='relu'))  # 1x1x128                                                     # 1x1x128\n",
        "\n",
        "# flatten since too many dimensions, we only want a classification output\n",
        "model.add(Flatten())\n",
        "\n",
        "# FC_1: fully connected to get all relevant data\n",
        "model.add(Dense(64, activation='relu'))\n",
        "\n",
        "# FC_2: output a softmax to squash the matrix into output probabilities for the 10 classes\n",
        "model.add(Dense(10, activation='softmax'))\n",
        "\n",
        "model.summary()"
      ]
    },
    {
      "cell_type": "code",
      "source": [
        "model = Sequential()\n",
        "model.add(Conv2D(filters=16, kernel_size=3, padding='same', activation='relu',\n",
        "                        input_shape=(32, 32, 3))) # 32x32x16\n",
        "model.add(MaxPooling2D(pool_size=2)) # 16x16x16\n",
        "model.add(Conv2D(filters=32, kernel_size=3, padding='same', activation='relu')) # 16 x 16 x32\n",
        "model.add(MaxPooling2D(pool_size=2)) # 8 x 8 x32\n",
        "model.add(Conv2D(filters=64, kernel_size=3, padding='same', activation='relu')) # 8 x 8 x 64\n",
        "model.add(MaxPooling2D(pool_size=2)) # 4x4x64\n",
        "\n",
        "model.add(Conv2D(128, (4, 4),padding='valid', activation='relu'))  # 1x1x128\n",
        "\n",
        "model.add(Dropout(0.3))\n",
        "model.add(Flatten())\n",
        "model.add(Dense(500, activation='relu'))\n",
        "model.add(Dropout(0.4))\n",
        "model.add(Dense(10, activation='softmax'))"
      ],
      "metadata": {
        "id": "VCDa9HuUEW8f"
      },
      "execution_count": null,
      "outputs": []
    }
  ]
}